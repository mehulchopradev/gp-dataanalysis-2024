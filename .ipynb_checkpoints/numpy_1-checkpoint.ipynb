{
 "cells": [
  {
   "cell_type": "code",
   "execution_count": 30,
   "id": "7e538d9f-d9d5-4e5f-b867-faff5a2a7fb0",
   "metadata": {},
   "outputs": [],
   "source": [
    "import numpy as np"
   ]
  },
  {
   "cell_type": "code",
   "execution_count": 31,
   "id": "8ee868c4-9592-45c3-be2b-865ef0f34dd0",
   "metadata": {},
   "outputs": [],
   "source": [
    "marks = [5, 10, 5, 6, 8, 2, 1, 10, 7]"
   ]
  },
  {
   "cell_type": "markdown",
   "id": "93c49deb-8bc9-4f9d-bd77-bdb9e2254488",
   "metadata": {},
   "source": [
    "1D data\n",
    "Numpy -> ndarray"
   ]
  },
  {
   "cell_type": "code",
   "execution_count": 32,
   "id": "bb1a86ff-b8dc-4daa-a994-7b9d84361e38",
   "metadata": {},
   "outputs": [
    {
     "name": "stdout",
     "output_type": "stream",
     "text": [
      "[ 5 10  5  6  8  2  1 10  7]\n",
      "<class 'numpy.ndarray'>\n",
      "int8\n",
      "(9,)\n",
      "1\n",
      "[5, 10, 5, 6, 8, 2, 1, 10, 7]\n"
     ]
    }
   ],
   "source": [
    "m1 = np.array(marks, dtype=np.int8)\n",
    "print(m1)\n",
    "print(type(m1))\n",
    "print(m1.dtype)\n",
    "print(m1.shape)\n",
    "print(m1.ndim)\n",
    "print(marks)"
   ]
  },
  {
   "cell_type": "code",
   "execution_count": 33,
   "id": "a9b31521-54b7-4a88-ac5d-a3e3e98a46e0",
   "metadata": {},
   "outputs": [
    {
     "name": "stdout",
     "output_type": "stream",
     "text": [
      "5\n",
      "10\n",
      "7\n",
      "1\n",
      "[5 7]\n"
     ]
    }
   ],
   "source": [
    "# indexing\n",
    "print(m1[0])\n",
    "print(m1[1])\n",
    "print(m1[-1])\n",
    "print(m1[-3])\n",
    "\n",
    "# multiindexing\n",
    "print(m1[[0, -1]])"
   ]
  },
  {
   "cell_type": "code",
   "execution_count": 34,
   "id": "73d3eed8-788a-4079-9abb-56396dca854b",
   "metadata": {},
   "outputs": [
    {
     "name": "stdout",
     "output_type": "stream",
     "text": [
      "[ 5  9  5  6  8  2  1 10  7]\n",
      "[ 0  9  5  6  8  2  0 10  7]\n"
     ]
    }
   ],
   "source": [
    "# indexing + modification\n",
    "m1[1] = 9\n",
    "print(m1)\n",
    "\n",
    "# multiindexing + modification\n",
    "m1[[0, -3]] = 0\n",
    "print(m1)"
   ]
  },
  {
   "cell_type": "code",
   "execution_count": 35,
   "id": "2442a4e5-7ab3-42fa-ac2b-d5ab29f772d3",
   "metadata": {},
   "outputs": [
    {
     "name": "stdout",
     "output_type": "stream",
     "text": [
      "[0 9 5]\n",
      "[ 2  0 10  7]\n",
      "[0 9]\n"
     ]
    }
   ],
   "source": [
    "# slicing\n",
    "print(m1[0:3])\n",
    "print(m1[-4:])\n",
    "print(m1[:2])"
   ]
  },
  {
   "cell_type": "code",
   "execution_count": 36,
   "id": "6f5cda0a-9d0a-42e5-ae1f-c06239c6c523",
   "metadata": {},
   "outputs": [
    {
     "name": "stdout",
     "output_type": "stream",
     "text": [
      "[ 0  0  0  6  8  2  0 10  7]\n",
      "[0 0 0 6 8 2 5 9 6]\n",
      "<class 'numpy.ndarray'>\n"
     ]
    }
   ],
   "source": [
    "# slicing + modification\n",
    "m1[:3] = 0\n",
    "print(m1)\n",
    "m1[-3:] = [5, 9, 6]\n",
    "print(m1)\n",
    "print(type(m1))"
   ]
  },
  {
   "cell_type": "code",
   "execution_count": 37,
   "id": "2b408c79-2936-4fc7-9890-1b3f42f19b1b",
   "metadata": {},
   "outputs": [
    {
     "name": "stdout",
     "output_type": "stream",
     "text": [
      "[ 1  1  1  7  9  3  6 10  7]\n",
      "[0 0 0 6 8 2 5 9 6]\n"
     ]
    }
   ],
   "source": [
    "# arithmetic operations\n",
    "m2 = m1 + 1\n",
    "print(m2)\n",
    "print(m1)"
   ]
  },
  {
   "cell_type": "code",
   "execution_count": 40,
   "id": "8e1257ff-6a84-4476-a6de-465ed3d0913f",
   "metadata": {},
   "outputs": [
    {
     "name": "stdout",
     "output_type": "stream",
     "text": [
      "[False False False False  True False False  True False]\n",
      "[ True  True  True False False  True False  True False]\n"
     ]
    }
   ],
   "source": [
    "# relational operators\n",
    "m3 = m2 > 8\n",
    "print(m3)\n",
    "m4 = (m2 == 10) | (m2 < 5) # use numpy | and & inplace of `or` `and`\n",
    "print(m4)"
   ]
  },
  {
   "cell_type": "code",
   "execution_count": 43,
   "id": "1655d3b1-6bec-41ed-9724-ef6d4f8ab732",
   "metadata": {},
   "outputs": [
    {
     "name": "stdout",
     "output_type": "stream",
     "text": [
      "[ 1  1  1  3 10]\n",
      "[1 1 1 3]\n"
     ]
    }
   ],
   "source": [
    "# filtering\n",
    "m5 = m2[(m2 == 10) | (m2 < 5)]\n",
    "print(m5)\n",
    "m6 = m2[m2 < 5]\n",
    "print(m6)"
   ]
  },
  {
   "cell_type": "code",
   "execution_count": 50,
   "id": "e19f6b93-b682-488c-9ec5-5ca96a337468",
   "metadata": {},
   "outputs": [
    {
     "name": "stdout",
     "output_type": "stream",
     "text": [
      "1\n",
      "10\n",
      "45\n",
      "5.0\n",
      "6.0\n",
      "3.366501646120693\n",
      "11.333333333333334\n"
     ]
    }
   ],
   "source": [
    "# descriptive statistics\n",
    "print(m2.min())\n",
    "print(m2.max())\n",
    "print(m2.sum())\n",
    "print(m2.mean())\n",
    "print(np.median(m2))\n",
    "print(m2.std())\n",
    "print(m2.var())"
   ]
  },
  {
   "cell_type": "code",
   "execution_count": 54,
   "id": "287bafbf-3922-44db-bf1d-bd03830eec54",
   "metadata": {},
   "outputs": [
    {
     "name": "stdout",
     "output_type": "stream",
     "text": [
      "[ 1  1  1  7  9  3  6 10  7]\n",
      "['B' 'B' 'B' 'A' 'A' 'B' 'A' 'A' 'A']\n"
     ]
    }
   ],
   "source": [
    "# categorize\n",
    "print(m2)\n",
    "m7 = np.where(m2 > 5, 'A', 'B')\n",
    "print(m7)"
   ]
  },
  {
   "cell_type": "code",
   "execution_count": 57,
   "id": "252d97a8-36c0-4110-bf14-45f377421cde",
   "metadata": {},
   "outputs": [
    {
     "name": "stdout",
     "output_type": "stream",
     "text": [
      "[ 1  1  1  7  9  3  6 10  7]\n",
      "[ 1  1  1  3  6  7  7  9 10]\n",
      "[10  9  7  7  6  3  1  1  1]\n"
     ]
    }
   ],
   "source": [
    "print(m2)\n",
    "m8 = np.sort(m2)\n",
    "print(m8)\n",
    "m9 = m8[::-1]\n",
    "print(m9)"
   ]
  }
 ],
 "metadata": {
  "kernelspec": {
   "display_name": "Python 3 (ipykernel)",
   "language": "python",
   "name": "python3"
  },
  "language_info": {
   "codemirror_mode": {
    "name": "ipython",
    "version": 3
   },
   "file_extension": ".py",
   "mimetype": "text/x-python",
   "name": "python",
   "nbconvert_exporter": "python",
   "pygments_lexer": "ipython3",
   "version": "3.11.6"
  }
 },
 "nbformat": 4,
 "nbformat_minor": 5
}
