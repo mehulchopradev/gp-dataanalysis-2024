{
 "cells": [
  {
   "cell_type": "code",
   "execution_count": 1,
   "id": "90251d0e-c3a1-41c4-85bb-2c3c70718b70",
   "metadata": {},
   "outputs": [],
   "source": [
    "import numpy as np"
   ]
  },
  {
   "cell_type": "code",
   "execution_count": 3,
   "id": "b3284b22-775e-4e04-93da-24dca74a254a",
   "metadata": {},
   "outputs": [
    {
     "name": "stdout",
     "output_type": "stream",
     "text": [
      "[[93, 97, 100], [95, 89, 98], [99, 90, 95]]\n"
     ]
    }
   ],
   "source": [
    "marks = [\n",
    "    [93, 97, 100],\n",
    "    [95, 89, 98],\n",
    "    [99, 90, 95]\n",
    "]\n",
    "print(marks)"
   ]
  },
  {
   "cell_type": "code",
   "execution_count": 4,
   "id": "97f228b9-8313-4a84-b6a8-5b44a3af9925",
   "metadata": {},
   "outputs": [
    {
     "name": "stdout",
     "output_type": "stream",
     "text": [
      "[[ 93  97 100]\n",
      " [ 95  89  98]\n",
      " [ 99  90  95]]\n",
      "<class 'numpy.ndarray'>\n",
      "2\n",
      "(3, 3)\n"
     ]
    }
   ],
   "source": [
    "m1 = np.array(marks)\n",
    "print(m1)\n",
    "print(type(m1))\n",
    "print(m1.ndim)\n",
    "print(m1.shape)"
   ]
  },
  {
   "cell_type": "code",
   "execution_count": 11,
   "id": "3be69060-a4c7-457a-a842-32c456515e46",
   "metadata": {},
   "outputs": [
    {
     "name": "stdout",
     "output_type": "stream",
     "text": [
      "[ 93  97 100]\n",
      "[99 90 95]\n",
      "[[ 93  97 100]\n",
      " [ 99  90  95]]\n",
      "100\n",
      "100\n",
      "90\n",
      "[[ 93  97 100]\n",
      " [ 95  89  99]\n",
      " [ 99  90  95]]\n"
     ]
    }
   ],
   "source": [
    "# indexing\n",
    "print(m1[0])\n",
    "print(m1[-1])\n",
    "print(m1[[0, -1]])\n",
    "\n",
    "print(m1[0][-1]) # python list\n",
    "print(m1[0, -1]) # numpy preferred\n",
    "print(m1[-1, 1])\n",
    "\n",
    "#indexing + modification\n",
    "m1[1, -1] = 99\n",
    "print(m1)"
   ]
  },
  {
   "cell_type": "code",
   "execution_count": 16,
   "id": "7dfe7144-887b-47be-9d83-73da630d57b8",
   "metadata": {},
   "outputs": [
    {
     "name": "stdout",
     "output_type": "stream",
     "text": [
      "[[ 93  97 100]\n",
      " [ 95  89  99]]\n",
      "[[95 89 99]\n",
      " [99 90 95]]\n",
      "[[ 97 100]\n",
      " [ 89  99]]\n",
      "[[95 89]\n",
      " [99 90]]\n"
     ]
    }
   ],
   "source": [
    "# slicing\n",
    "m2 = m1[:2]\n",
    "print(m2)\n",
    "m3 = m1[-2:]\n",
    "print(m3)\n",
    "\n",
    "m4 = m1[:2, -2:]\n",
    "print(m4)\n",
    "m5 = m1[-2:, :2]\n",
    "print(m5)"
   ]
  },
  {
   "cell_type": "code",
   "execution_count": 19,
   "id": "95cfea2a-21d3-4100-9c90-68e080223b46",
   "metadata": {},
   "outputs": [
    {
     "name": "stdout",
     "output_type": "stream",
     "text": [
      "[[ 97 100]\n",
      " [ 90  95]]\n",
      "[[ 93 100]\n",
      " [ 95  99]]\n"
     ]
    }
   ],
   "source": [
    "# indexing + slicing\n",
    "m6 = m1[[0, -1], -2:]\n",
    "print(m6)\n",
    "m7 = m1[:2, [0, -1]]\n",
    "print(m7)"
   ]
  },
  {
   "cell_type": "code",
   "execution_count": 22,
   "id": "ddf7e809-b575-4d43-a824-369c8c27de1b",
   "metadata": {},
   "outputs": [
    {
     "name": "stdout",
     "output_type": "stream",
     "text": [
      "[[ 93  97 100]\n",
      " [ 95  89  99]\n",
      " [ 99  90  95]]\n",
      "[[92 97 99]\n",
      " [94 89 98]\n",
      " [98 90 94]]\n",
      "[[92 96 99]\n",
      " [95 89 99]\n",
      " [98 89 94]]\n"
     ]
    }
   ],
   "source": [
    "print(m1)\n",
    "m8 = m1 - [1, 0, 1]\n",
    "print(m8)\n",
    "m9 = m1 - [\n",
    "    [1],\n",
    "    [0],\n",
    "    [1]\n",
    "]\n",
    "print(m9)"
   ]
  },
  {
   "cell_type": "code",
   "execution_count": 27,
   "id": "0016078d-8402-4a02-b454-b08fecd3fa28",
   "metadata": {},
   "outputs": [
    {
     "name": "stdout",
     "output_type": "stream",
     "text": [
      "[[ 93  97 100]\n",
      " [ 95  89  99]\n",
      " [ 99  90  95]]\n",
      "[95.66666667 92.         98.        ]\n",
      "[290 283 284]\n",
      "100\n"
     ]
    }
   ],
   "source": [
    "print(m1)\n",
    "print(m1.mean(axis=0)) # vertical\n",
    "print(m1.sum(axis=1)) # horizontal\n",
    "print(m1.max())"
   ]
  },
  {
   "cell_type": "code",
   "execution_count": null,
   "id": "e6ac90b5-1672-4b3c-bfe5-c9786d972b41",
   "metadata": {},
   "outputs": [],
   "source": []
  }
 ],
 "metadata": {
  "kernelspec": {
   "display_name": "Python 3 (ipykernel)",
   "language": "python",
   "name": "python3"
  },
  "language_info": {
   "codemirror_mode": {
    "name": "ipython",
    "version": 3
   },
   "file_extension": ".py",
   "mimetype": "text/x-python",
   "name": "python",
   "nbconvert_exporter": "python",
   "pygments_lexer": "ipython3",
   "version": "3.11.6"
  }
 },
 "nbformat": 4,
 "nbformat_minor": 5
}
