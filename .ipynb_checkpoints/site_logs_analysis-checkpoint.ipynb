{
 "cells": [
  {
   "cell_type": "code",
   "execution_count": 2,
   "id": "ef6b0863-769a-4761-8291-16e63651039c",
   "metadata": {},
   "outputs": [],
   "source": [
    "from pandas import DataFrame\n",
    "import pandas as pd"
   ]
  },
  {
   "cell_type": "code",
   "execution_count": 4,
   "id": "0394e7cc-cbf9-4212-b4d8-22cb4da879f0",
   "metadata": {},
   "outputs": [],
   "source": [
    "path = 'data/site-logs/session-logs.csv'"
   ]
  },
  {
   "cell_type": "code",
   "execution_count": 5,
   "id": "867d21ca-c09d-4a74-9902-0a7ea35f7823",
   "metadata": {},
   "outputs": [
    {
     "data": {
      "text/html": [
       "<div>\n",
       "<style scoped>\n",
       "    .dataframe tbody tr th:only-of-type {\n",
       "        vertical-align: middle;\n",
       "    }\n",
       "\n",
       "    .dataframe tbody tr th {\n",
       "        vertical-align: top;\n",
       "    }\n",
       "\n",
       "    .dataframe thead th {\n",
       "        text-align: right;\n",
       "    }\n",
       "</style>\n",
       "<table border=\"1\" class=\"dataframe\">\n",
       "  <thead>\n",
       "    <tr style=\"text-align: right;\">\n",
       "      <th></th>\n",
       "      <th>username</th>\n",
       "      <th>date</th>\n",
       "      <th>time</th>\n",
       "      <th>action</th>\n",
       "    </tr>\n",
       "  </thead>\n",
       "  <tbody>\n",
       "    <tr>\n",
       "      <th>0</th>\n",
       "      <td>john.doe@gmail.com</td>\n",
       "      <td>2015-03-01</td>\n",
       "      <td>4:30</td>\n",
       "      <td>in</td>\n",
       "    </tr>\n",
       "    <tr>\n",
       "      <th>1</th>\n",
       "      <td>bill@yahoo.com</td>\n",
       "      <td>2015-03-01</td>\n",
       "      <td>4:35</td>\n",
       "      <td>out</td>\n",
       "    </tr>\n",
       "    <tr>\n",
       "      <th>2</th>\n",
       "      <td>christina@gmail.com</td>\n",
       "      <td>2015-03-01</td>\n",
       "      <td>4:36</td>\n",
       "      <td>out</td>\n",
       "    </tr>\n",
       "    <tr>\n",
       "      <th>3</th>\n",
       "      <td>john.doe@gmail.com</td>\n",
       "      <td>2015-03-01</td>\n",
       "      <td>4:45</td>\n",
       "      <td>out</td>\n",
       "    </tr>\n",
       "    <tr>\n",
       "      <th>4</th>\n",
       "      <td>bill@yahoo.com</td>\n",
       "      <td>2015-03-01</td>\n",
       "      <td>4:50</td>\n",
       "      <td>out</td>\n",
       "    </tr>\n",
       "    <tr>\n",
       "      <th>5</th>\n",
       "      <td>john.doe@gmail.com</td>\n",
       "      <td>2015-03-02</td>\n",
       "      <td>5:30</td>\n",
       "      <td>out</td>\n",
       "    </tr>\n",
       "    <tr>\n",
       "      <th>6</th>\n",
       "      <td>john.doe@gmail.com</td>\n",
       "      <td>2015-03-02</td>\n",
       "      <td>5:45</td>\n",
       "      <td>out</td>\n",
       "    </tr>\n",
       "    <tr>\n",
       "      <th>7</th>\n",
       "      <td>john.doe@gmail.com</td>\n",
       "      <td>2015-03-02</td>\n",
       "      <td>6:00</td>\n",
       "      <td>in</td>\n",
       "    </tr>\n",
       "    <tr>\n",
       "      <th>8</th>\n",
       "      <td>john.doe@gmail.com</td>\n",
       "      <td>2015-03-02</td>\n",
       "      <td>7:30</td>\n",
       "      <td>out</td>\n",
       "    </tr>\n",
       "    <tr>\n",
       "      <th>9</th>\n",
       "      <td>christina@gmail.com</td>\n",
       "      <td>2015-03-02</td>\n",
       "      <td>18:00</td>\n",
       "      <td>out</td>\n",
       "    </tr>\n",
       "    <tr>\n",
       "      <th>10</th>\n",
       "      <td>bill@yahoo.com</td>\n",
       "      <td>2015-03-03</td>\n",
       "      <td>10:30</td>\n",
       "      <td>out</td>\n",
       "    </tr>\n",
       "    <tr>\n",
       "      <th>11</th>\n",
       "      <td>bill@yahoo.com</td>\n",
       "      <td>2015-03-03</td>\n",
       "      <td>10:45</td>\n",
       "      <td>out</td>\n",
       "    </tr>\n",
       "    <tr>\n",
       "      <th>12</th>\n",
       "      <td>christina@gmail.com</td>\n",
       "      <td>2015-03-03</td>\n",
       "      <td>11:00</td>\n",
       "      <td>in</td>\n",
       "    </tr>\n",
       "    <tr>\n",
       "      <th>13</th>\n",
       "      <td>bill@yahoo.com</td>\n",
       "      <td>2015-03-03</td>\n",
       "      <td>11:30</td>\n",
       "      <td>out</td>\n",
       "    </tr>\n",
       "    <tr>\n",
       "      <th>14</th>\n",
       "      <td>john.doe@gmail.com</td>\n",
       "      <td>2015-03-03</td>\n",
       "      <td>1:30</td>\n",
       "      <td>in</td>\n",
       "    </tr>\n",
       "    <tr>\n",
       "      <th>15</th>\n",
       "      <td>bill@yahoo.com</td>\n",
       "      <td>2015-03-03</td>\n",
       "      <td>2:30</td>\n",
       "      <td>out</td>\n",
       "    </tr>\n",
       "    <tr>\n",
       "      <th>16</th>\n",
       "      <td>christina@gmail.com</td>\n",
       "      <td>2015-03-03</td>\n",
       "      <td>2:30</td>\n",
       "      <td>out</td>\n",
       "    </tr>\n",
       "    <tr>\n",
       "      <th>17</th>\n",
       "      <td>john.doe@gmail.com</td>\n",
       "      <td>2015-03-03</td>\n",
       "      <td>2:45</td>\n",
       "      <td>in</td>\n",
       "    </tr>\n",
       "    <tr>\n",
       "      <th>18</th>\n",
       "      <td>jay@gmail.com</td>\n",
       "      <td>2015-04-04</td>\n",
       "      <td>4:47</td>\n",
       "      <td>in</td>\n",
       "    </tr>\n",
       "    <tr>\n",
       "      <th>19</th>\n",
       "      <td>christina@gmail.com</td>\n",
       "      <td>2015-06-01</td>\n",
       "      <td>4:30</td>\n",
       "      <td>in</td>\n",
       "    </tr>\n",
       "    <tr>\n",
       "      <th>20</th>\n",
       "      <td>john.doe@gmail.com</td>\n",
       "      <td>2015-06-01</td>\n",
       "      <td>5:45</td>\n",
       "      <td>out</td>\n",
       "    </tr>\n",
       "    <tr>\n",
       "      <th>21</th>\n",
       "      <td>bill@yahoo.com</td>\n",
       "      <td>2015-06-06</td>\n",
       "      <td>10:45</td>\n",
       "      <td>in</td>\n",
       "    </tr>\n",
       "    <tr>\n",
       "      <th>22</th>\n",
       "      <td>jay@gmail.com</td>\n",
       "      <td>2015-06-10</td>\n",
       "      <td>4:00</td>\n",
       "      <td>out</td>\n",
       "    </tr>\n",
       "  </tbody>\n",
       "</table>\n",
       "</div>"
      ],
      "text/plain": [
       "               username        date   time action\n",
       "0    john.doe@gmail.com  2015-03-01   4:30     in\n",
       "1        bill@yahoo.com  2015-03-01   4:35    out\n",
       "2   christina@gmail.com  2015-03-01   4:36    out\n",
       "3    john.doe@gmail.com  2015-03-01   4:45    out\n",
       "4        bill@yahoo.com  2015-03-01   4:50    out\n",
       "5    john.doe@gmail.com  2015-03-02   5:30    out\n",
       "6    john.doe@gmail.com  2015-03-02   5:45    out\n",
       "7    john.doe@gmail.com  2015-03-02   6:00     in\n",
       "8    john.doe@gmail.com  2015-03-02   7:30    out\n",
       "9   christina@gmail.com  2015-03-02  18:00    out\n",
       "10       bill@yahoo.com  2015-03-03  10:30    out\n",
       "11       bill@yahoo.com  2015-03-03  10:45    out\n",
       "12  christina@gmail.com  2015-03-03  11:00     in\n",
       "13       bill@yahoo.com  2015-03-03  11:30    out\n",
       "14   john.doe@gmail.com  2015-03-03   1:30     in\n",
       "15       bill@yahoo.com  2015-03-03   2:30    out\n",
       "16  christina@gmail.com  2015-03-03   2:30    out\n",
       "17   john.doe@gmail.com  2015-03-03   2:45     in\n",
       "18        jay@gmail.com  2015-04-04   4:47     in\n",
       "19  christina@gmail.com  2015-06-01   4:30     in\n",
       "20   john.doe@gmail.com  2015-06-01   5:45    out\n",
       "21       bill@yahoo.com  2015-06-06  10:45     in\n",
       "22        jay@gmail.com  2015-06-10   4:00    out"
      ]
     },
     "execution_count": 5,
     "metadata": {},
     "output_type": "execute_result"
    }
   ],
   "source": [
    "d1 = pd.read_csv(path, names=['username', 'date', 'time', 'action'])\n",
    "d1"
   ]
  },
  {
   "cell_type": "code",
   "execution_count": 8,
   "id": "b52674eb-ff32-4c18-9ebd-55a8d378d240",
   "metadata": {},
   "outputs": [
    {
     "name": "stdout",
     "output_type": "stream",
     "text": [
      "['in' 'out']\n",
      "Empty DataFrame\n",
      "Columns: [username, date, time, action]\n",
      "Index: []\n",
      "Empty DataFrame\n",
      "Columns: [username, date, time, action]\n",
      "Index: []\n"
     ]
    }
   ],
   "source": [
    "# How many times employees have punched an `out` entry\n",
    "print(d1['action'].unique())\n",
    "print(d1[(d1['action'] == '') | (d1['action'].isnull())])\n",
    "print(d1[(d1['username'] == '') | (d1['username'].isnull())])"
   ]
  },
  {
   "cell_type": "code",
   "execution_count": 11,
   "id": "7020b37c-fc12-4d04-8872-1b4a1d172401",
   "metadata": {},
   "outputs": [
    {
     "data": {
      "text/plain": [
       "1          bill@yahoo.com\n",
       "2     christina@gmail.com\n",
       "3      john.doe@gmail.com\n",
       "4          bill@yahoo.com\n",
       "5      john.doe@gmail.com\n",
       "6      john.doe@gmail.com\n",
       "8      john.doe@gmail.com\n",
       "9     christina@gmail.com\n",
       "10         bill@yahoo.com\n",
       "11         bill@yahoo.com\n",
       "13         bill@yahoo.com\n",
       "15         bill@yahoo.com\n",
       "16    christina@gmail.com\n",
       "20     john.doe@gmail.com\n",
       "22          jay@gmail.com\n",
       "Name: username, dtype: object"
      ]
     },
     "execution_count": 11,
     "metadata": {},
     "output_type": "execute_result"
    }
   ],
   "source": [
    "d2 = d1[d1['action'] == 'out']\n",
    "d3 = d2['username']\n",
    "d3"
   ]
  },
  {
   "cell_type": "code",
   "execution_count": 12,
   "id": "1913da0c-d818-47cb-b132-74bb32319c64",
   "metadata": {},
   "outputs": [
    {
     "data": {
      "text/plain": [
       "username\n",
       "bill@yahoo.com         6\n",
       "john.doe@gmail.com     5\n",
       "christina@gmail.com    3\n",
       "jay@gmail.com          1\n",
       "Name: count, dtype: int64"
      ]
     },
     "execution_count": 12,
     "metadata": {},
     "output_type": "execute_result"
    }
   ],
   "source": [
    "d4 = d3.value_counts()\n",
    "d4"
   ]
  },
  {
   "cell_type": "code",
   "execution_count": 14,
   "id": "a3bea0f6-6c27-4831-9bd6-ba7aebc365b4",
   "metadata": {},
   "outputs": [
    {
     "data": {
      "text/plain": [
       "<Axes: ylabel='username'>"
      ]
     },
     "execution_count": 14,
     "metadata": {},
     "output_type": "execute_result"
    },
    {
     "data": {
      "image/png": "[encoded data removed]",
      "text/plain": [
       "<Figure size 640x480 with 1 Axes>"
      ]
     },
     "metadata": {},
     "output_type": "display_data"
    }
   ],
   "source": [
    "d4.plot(kind='barh')"
   ]
  }
 ],
 "metadata": {
  "kernelspec": {
   "display_name": "Python 3 (ipykernel)",
   "language": "python",
   "name": "python3"
  },
  "language_info": {
   "codemirror_mode": {
    "name": "ipython",
    "version": 3
   },
   "file_extension": ".py",
   "mimetype": "text/x-python",
   "name": "python",
   "nbconvert_exporter": "python",
   "pygments_lexer": "ipython3",
   "version": "3.11.6"
  }
 },
 "nbformat": 4,
 "nbformat_minor": 5
}
