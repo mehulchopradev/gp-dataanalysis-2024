{
 "cells": [
  {
   "cell_type": "code",
   "execution_count": 10,
   "id": "8e926853-24b2-4efd-b168-a3cc3a1cfd50",
   "metadata": {},
   "outputs": [],
   "source": [
    "import numpy as np\n",
    "import numpy.random as rd"
   ]
  },
  {
   "cell_type": "code",
   "execution_count": 7,
   "id": "520df254-0fcc-47f7-a367-7f3271ee277a",
   "metadata": {},
   "outputs": [
    {
     "name": "stdout",
     "output_type": "stream",
     "text": [
      "[1. 1. 1. 1. 1. 1. 1. 1. 1. 1. 1. 1.]\n",
      "[0. 0. 0. 0. 0. 0. 0. 0. 0. 0.]\n"
     ]
    }
   ],
   "source": [
    "ones = np.ones(12)\n",
    "print(ones)\n",
    "ze = np.zeros(10)\n",
    "print(ze)"
   ]
  },
  {
   "cell_type": "code",
   "execution_count": 8,
   "id": "b5eb5cf6-44d1-49c1-bfce-a6c17e7a6df0",
   "metadata": {},
   "outputs": [
    {
     "name": "stdout",
     "output_type": "stream",
     "text": [
      "[[1. 0. 0.]\n",
      " [0. 1. 0.]\n",
      " [0. 0. 1.]]\n"
     ]
    }
   ],
   "source": [
    "m1 = np.identity(3)\n",
    "print(m1)"
   ]
  },
  {
   "cell_type": "code",
   "execution_count": 9,
   "id": "f83ecbf2-7692-4369-9d28-22cc3b37c990",
   "metadata": {},
   "outputs": [
    {
     "name": "stdout",
     "output_type": "stream",
     "text": [
      "[ 5  6  7  8  9 10 11 12 13 14 15]\n"
     ]
    }
   ],
   "source": [
    "m2 = np.arange(5, 16)\n",
    "print(m2)"
   ]
  },
  {
   "cell_type": "code",
   "execution_count": 37,
   "id": "6612e58a-edf5-42b1-95ff-323359b0812e",
   "metadata": {},
   "outputs": [
    {
     "name": "stdout",
     "output_type": "stream",
     "text": [
      "[0.15163215 0.55867071 0.54662027 0.83340809 0.76043066 0.44997795\n",
      " 0.22409899 0.50634413 0.73643483 0.73260819]\n",
      "[-0.46661914  0.01212431  0.92311597 -0.08821939  1.10330435 -1.05540364\n",
      "  1.87709046 -0.65122785  0.69775756 -0.71832594]\n"
     ]
    }
   ],
   "source": [
    "m3 = rd.rand(10)\n",
    "print(m3)\n",
    "m4 = rd.randn(10)\n",
    "print(m4)"
   ]
  }
 ],
 "metadata": {
  "kernelspec": {
   "display_name": "Python 3 (ipykernel)",
   "language": "python",
   "name": "python3"
  },
  "language_info": {
   "codemirror_mode": {
    "name": "ipython",
    "version": 3
   },
   "file_extension": ".py",
   "mimetype": "text/x-python",
   "name": "python",
   "nbconvert_exporter": "python",
   "pygments_lexer": "ipython3",
   "version": "3.11.6"
  }
 },
 "nbformat": 4,
 "nbformat_minor": 5
}
