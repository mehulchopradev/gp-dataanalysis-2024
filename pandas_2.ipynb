{
 "cells": [
  {
   "cell_type": "code",
   "execution_count": 39,
   "id": "940b924a-3f0d-4433-8492-6bfb4332fd8c",
   "metadata": {},
   "outputs": [],
   "source": [
    "from pandas import DataFrame, Series\n",
    "import pandas as pd"
   ]
  },
  {
   "cell_type": "markdown",
   "id": "d930b292-5197-4ae2-9d73-b04e602cce1c",
   "metadata": {},
   "source": [
    "`DataFrame`\n",
    "2D data\n",
    "- Table in RDBMS\n",
    "- Table in an excel sheet"
   ]
  },
  {
   "cell_type": "code",
   "execution_count": 2,
   "id": "addc2ea7-86bf-4511-af87-211860c39d46",
   "metadata": {},
   "outputs": [],
   "source": [
    "marks = {\n",
    "    'Name': ['mehul', 'jane', 'jill'],\n",
    "    'Physics': [93, 98, 99],\n",
    "    'Chemistry': [100, 95, 90]\n",
    "}"
   ]
  },
  {
   "cell_type": "code",
   "execution_count": 5,
   "id": "dd867004-f077-4534-9981-294af69db736",
   "metadata": {},
   "outputs": [
    {
     "data": {
      "text/html": [
       "<div>\n",
       "<style scoped>\n",
       "    .dataframe tbody tr th:only-of-type {\n",
       "        vertical-align: middle;\n",
       "    }\n",
       "\n",
       "    .dataframe tbody tr th {\n",
       "        vertical-align: top;\n",
       "    }\n",
       "\n",
       "    .dataframe thead th {\n",
       "        text-align: right;\n",
       "    }\n",
       "</style>\n",
       "<table border=\"1\" class=\"dataframe\">\n",
       "  <thead>\n",
       "    <tr style=\"text-align: right;\">\n",
       "      <th></th>\n",
       "      <th>Name</th>\n",
       "      <th>Physics</th>\n",
       "      <th>Chemistry</th>\n",
       "    </tr>\n",
       "  </thead>\n",
       "  <tbody>\n",
       "    <tr>\n",
       "      <th>0</th>\n",
       "      <td>mehul</td>\n",
       "      <td>93</td>\n",
       "      <td>100</td>\n",
       "    </tr>\n",
       "    <tr>\n",
       "      <th>1</th>\n",
       "      <td>jane</td>\n",
       "      <td>98</td>\n",
       "      <td>95</td>\n",
       "    </tr>\n",
       "    <tr>\n",
       "      <th>2</th>\n",
       "      <td>jill</td>\n",
       "      <td>99</td>\n",
       "      <td>90</td>\n",
       "    </tr>\n",
       "  </tbody>\n",
       "</table>\n",
       "</div>"
      ],
      "text/plain": [
       "    Name  Physics  Chemistry\n",
       "0  mehul       93        100\n",
       "1   jane       98         95\n",
       "2   jill       99         90"
      ]
     },
     "execution_count": 5,
     "metadata": {},
     "output_type": "execute_result"
    }
   ],
   "source": [
    "d1 = DataFrame(marks)\n",
    "d1"
   ]
  },
  {
   "cell_type": "code",
   "execution_count": 8,
   "id": "a5597a42-e975-457c-8b7c-2ab18b3a5431",
   "metadata": {},
   "outputs": [
    {
     "name": "stdout",
     "output_type": "stream",
     "text": [
      "<class 'pandas.core.frame.DataFrame'>\n",
      "RangeIndex(start=0, stop=3, step=1)\n",
      "Index(['Name', 'Physics', 'Chemistry'], dtype='object')\n"
     ]
    }
   ],
   "source": [
    "print(type(d1))\n",
    "print(d1.index)\n",
    "print(d1.columns)"
   ]
  },
  {
   "cell_type": "code",
   "execution_count": 9,
   "id": "81747849-f929-445f-a178-214424f14168",
   "metadata": {},
   "outputs": [],
   "source": [
    "marks = {\n",
    "    'Name': ['mehul', 'jane', 'jill'],\n",
    "    'Physics': [93, 98, 99],\n",
    "    'Chemistry': [100, 95, 90],\n",
    "    'Roll': [10, 12, 13]\n",
    "}"
   ]
  },
  {
   "cell_type": "code",
   "execution_count": 11,
   "id": "448fe3a7-1683-4b6d-a1f2-8b3d23865d54",
   "metadata": {},
   "outputs": [
    {
     "data": {
      "text/html": [
       "<div>\n",
       "<style scoped>\n",
       "    .dataframe tbody tr th:only-of-type {\n",
       "        vertical-align: middle;\n",
       "    }\n",
       "\n",
       "    .dataframe tbody tr th {\n",
       "        vertical-align: top;\n",
       "    }\n",
       "\n",
       "    .dataframe thead th {\n",
       "        text-align: right;\n",
       "    }\n",
       "</style>\n",
       "<table border=\"1\" class=\"dataframe\">\n",
       "  <thead>\n",
       "    <tr style=\"text-align: right;\">\n",
       "      <th></th>\n",
       "      <th>Name</th>\n",
       "      <th>Physics</th>\n",
       "      <th>Chemistry</th>\n",
       "    </tr>\n",
       "  </thead>\n",
       "  <tbody>\n",
       "    <tr>\n",
       "      <th>10</th>\n",
       "      <td>mehul</td>\n",
       "      <td>93</td>\n",
       "      <td>100</td>\n",
       "    </tr>\n",
       "    <tr>\n",
       "      <th>12</th>\n",
       "      <td>jane</td>\n",
       "      <td>98</td>\n",
       "      <td>95</td>\n",
       "    </tr>\n",
       "    <tr>\n",
       "      <th>13</th>\n",
       "      <td>jill</td>\n",
       "      <td>99</td>\n",
       "      <td>90</td>\n",
       "    </tr>\n",
       "  </tbody>\n",
       "</table>\n",
       "</div>"
      ],
      "text/plain": [
       "     Name  Physics  Chemistry\n",
       "10  mehul       93        100\n",
       "12   jane       98         95\n",
       "13   jill       99         90"
      ]
     },
     "execution_count": 11,
     "metadata": {},
     "output_type": "execute_result"
    }
   ],
   "source": [
    "d2 = DataFrame(marks, index=marks['Roll'], columns=['Name', 'Physics', 'Chemistry'])\n",
    "d2"
   ]
  },
  {
   "cell_type": "code",
   "execution_count": 16,
   "id": "5bd996cb-c0c1-404e-8f9e-2daad7a6c9a5",
   "metadata": {
    "scrolled": true
   },
   "outputs": [
    {
     "name": "stdout",
     "output_type": "stream",
     "text": [
      "Name         jane\n",
      "Physics        98\n",
      "Chemistry      95\n",
      "Name: 12, dtype: object\n",
      "     Name  Physics  Chemistry\n",
      "10  mehul       93        100\n",
      "13   jill       99         90\n",
      "     Name  Physics  Chemistry\n",
      "10  mehul       93        100\n",
      "13   jill       99         90\n"
     ]
    }
   ],
   "source": [
    "# row level indexing\n",
    "print(d2.loc[12])\n",
    "print(d2.loc[[10, 13]])\n",
    "print(d2.iloc[[0, -1]])"
   ]
  },
  {
   "cell_type": "code",
   "execution_count": 18,
   "id": "4f283514-45cb-49cb-bfbc-875c739c0e95",
   "metadata": {},
   "outputs": [
    {
     "name": "stdout",
     "output_type": "stream",
     "text": [
      "10    93\n",
      "12    98\n",
      "13    99\n",
      "Name: Physics, dtype: int64\n",
      "     Name  Chemistry\n",
      "10  mehul        100\n",
      "12   jane         95\n",
      "13   jill         90\n"
     ]
    }
   ],
   "source": [
    "# column level indexing\n",
    "print(d2['Physics'])\n",
    "print(d2[['Name', 'Chemistry']])"
   ]
  },
  {
   "cell_type": "code",
   "execution_count": 20,
   "id": "ac132ba4-02fa-4759-b7d7-5bfa30702f1a",
   "metadata": {},
   "outputs": [
    {
     "name": "stdout",
     "output_type": "stream",
     "text": [
      "10    93\n",
      "13    99\n",
      "Name: Physics, dtype: int64\n",
      "    Name  Chemistry\n",
      "12  jane         95\n",
      "13  jill         90\n"
     ]
    }
   ],
   "source": [
    "# row + column indexing\n",
    "print(d2.loc[[10, 13], 'Physics'])\n",
    "print(d2.loc[[12, 13], ['Name', 'Chemistry']])"
   ]
  },
  {
   "cell_type": "code",
   "execution_count": 23,
   "id": "7c77f657-cd6c-48ca-9c30-3e601628c55e",
   "metadata": {},
   "outputs": [
    {
     "name": "stdout",
     "output_type": "stream",
     "text": [
      "     Name  Chemistry\n",
      "10  mehul        100\n",
      "13   jill         90\n"
     ]
    }
   ],
   "source": [
    "print(d2.iloc[[0, -1], [0, 2]])"
   ]
  },
  {
   "cell_type": "code",
   "execution_count": 26,
   "id": "375d7715-133c-4351-9e4d-6d64da5f02b0",
   "metadata": {},
   "outputs": [
    {
     "data": {
      "text/plain": [
       "12    100\n",
       "10     95\n",
       "13     97\n",
       "dtype: int64"
      ]
     },
     "execution_count": 26,
     "metadata": {},
     "output_type": "execute_result"
    }
   ],
   "source": [
    "maths = {12: 100, 10: 95, 13: 97}\n",
    "maths_series = Series(maths)\n",
    "maths_series"
   ]
  },
  {
   "cell_type": "code",
   "execution_count": 27,
   "id": "ddc48de4-369a-40ed-9d42-775ae50cb2e8",
   "metadata": {},
   "outputs": [
    {
     "data": {
      "text/html": [
       "<div>\n",
       "<style scoped>\n",
       "    .dataframe tbody tr th:only-of-type {\n",
       "        vertical-align: middle;\n",
       "    }\n",
       "\n",
       "    .dataframe tbody tr th {\n",
       "        vertical-align: top;\n",
       "    }\n",
       "\n",
       "    .dataframe thead th {\n",
       "        text-align: right;\n",
       "    }\n",
       "</style>\n",
       "<table border=\"1\" class=\"dataframe\">\n",
       "  <thead>\n",
       "    <tr style=\"text-align: right;\">\n",
       "      <th></th>\n",
       "      <th>Name</th>\n",
       "      <th>Physics</th>\n",
       "      <th>Chemistry</th>\n",
       "      <th>Maths</th>\n",
       "    </tr>\n",
       "  </thead>\n",
       "  <tbody>\n",
       "    <tr>\n",
       "      <th>10</th>\n",
       "      <td>mehul</td>\n",
       "      <td>93</td>\n",
       "      <td>100</td>\n",
       "      <td>95</td>\n",
       "    </tr>\n",
       "    <tr>\n",
       "      <th>12</th>\n",
       "      <td>jane</td>\n",
       "      <td>98</td>\n",
       "      <td>95</td>\n",
       "      <td>100</td>\n",
       "    </tr>\n",
       "    <tr>\n",
       "      <th>13</th>\n",
       "      <td>jill</td>\n",
       "      <td>99</td>\n",
       "      <td>90</td>\n",
       "      <td>97</td>\n",
       "    </tr>\n",
       "  </tbody>\n",
       "</table>\n",
       "</div>"
      ],
      "text/plain": [
       "     Name  Physics  Chemistry  Maths\n",
       "10  mehul       93        100     95\n",
       "12   jane       98         95    100\n",
       "13   jill       99         90     97"
      ]
     },
     "execution_count": 27,
     "metadata": {},
     "output_type": "execute_result"
    }
   ],
   "source": [
    "d2['Maths'] = maths_series\n",
    "d2"
   ]
  },
  {
   "cell_type": "code",
   "execution_count": 28,
   "id": "645503a0-4d25-4973-bc5b-48de48a59a89",
   "metadata": {},
   "outputs": [
    {
     "data": {
      "text/html": [
       "<div>\n",
       "<style scoped>\n",
       "    .dataframe tbody tr th:only-of-type {\n",
       "        vertical-align: middle;\n",
       "    }\n",
       "\n",
       "    .dataframe tbody tr th {\n",
       "        vertical-align: top;\n",
       "    }\n",
       "\n",
       "    .dataframe thead th {\n",
       "        text-align: right;\n",
       "    }\n",
       "</style>\n",
       "<table border=\"1\" class=\"dataframe\">\n",
       "  <thead>\n",
       "    <tr style=\"text-align: right;\">\n",
       "      <th></th>\n",
       "      <th>Name</th>\n",
       "      <th>Physics</th>\n",
       "      <th>Chemistry</th>\n",
       "      <th>Maths</th>\n",
       "      <th>Total</th>\n",
       "    </tr>\n",
       "  </thead>\n",
       "  <tbody>\n",
       "    <tr>\n",
       "      <th>10</th>\n",
       "      <td>mehul</td>\n",
       "      <td>93</td>\n",
       "      <td>100</td>\n",
       "      <td>95</td>\n",
       "      <td>288</td>\n",
       "    </tr>\n",
       "    <tr>\n",
       "      <th>12</th>\n",
       "      <td>jane</td>\n",
       "      <td>98</td>\n",
       "      <td>95</td>\n",
       "      <td>100</td>\n",
       "      <td>293</td>\n",
       "    </tr>\n",
       "    <tr>\n",
       "      <th>13</th>\n",
       "      <td>jill</td>\n",
       "      <td>99</td>\n",
       "      <td>90</td>\n",
       "      <td>97</td>\n",
       "      <td>286</td>\n",
       "    </tr>\n",
       "  </tbody>\n",
       "</table>\n",
       "</div>"
      ],
      "text/plain": [
       "     Name  Physics  Chemistry  Maths  Total\n",
       "10  mehul       93        100     95    288\n",
       "12   jane       98         95    100    293\n",
       "13   jill       99         90     97    286"
      ]
     },
     "execution_count": 28,
     "metadata": {},
     "output_type": "execute_result"
    }
   ],
   "source": [
    "d2['Total'] = d2['Physics'] + d2['Chemistry'] + d2['Maths']\n",
    "d2"
   ]
  },
  {
   "cell_type": "code",
   "execution_count": 32,
   "id": "cd9328eb-c1f8-4ebd-a876-8336f799bbff",
   "metadata": {},
   "outputs": [
    {
     "name": "stdout",
     "output_type": "stream",
     "text": [
      "     Name  Physics  Chemistry  Maths  Total\n",
      "10  mehul       93        100     95    288\n",
      "12   jane       98         95    100    293\n",
      "    Name  Physics  Chemistry  Maths  Total\n",
      "12  jane       98         95    100    293\n",
      "13  jill       99         90     97    286\n",
      "    Physics  Chemistry  Maths\n",
      "10       93        100     95\n",
      "12       98         95    100\n",
      "    Physics  Maths\n",
      "12       98    100\n",
      "13       99     97\n"
     ]
    }
   ],
   "source": [
    "#slicing\n",
    "print(d2.iloc[:2])\n",
    "print(d2.iloc[-2:])\n",
    "\n",
    "print(d2.iloc[:2, 1:4])\n",
    "\n",
    "# slicing + indexing\n",
    "print(d2.iloc[-2:, [1, 3]])"
   ]
  },
  {
   "cell_type": "code",
   "execution_count": 34,
   "id": "7a699563-dc95-4fd3-bb6e-8498f9477fd8",
   "metadata": {},
   "outputs": [
    {
     "data": {
      "text/html": [
       "<div>\n",
       "<style scoped>\n",
       "    .dataframe tbody tr th:only-of-type {\n",
       "        vertical-align: middle;\n",
       "    }\n",
       "\n",
       "    .dataframe tbody tr th {\n",
       "        vertical-align: top;\n",
       "    }\n",
       "\n",
       "    .dataframe thead th {\n",
       "        text-align: right;\n",
       "    }\n",
       "</style>\n",
       "<table border=\"1\" class=\"dataframe\">\n",
       "  <thead>\n",
       "    <tr style=\"text-align: right;\">\n",
       "      <th></th>\n",
       "      <th>Physics</th>\n",
       "      <th>Chemistry</th>\n",
       "      <th>Maths</th>\n",
       "    </tr>\n",
       "  </thead>\n",
       "  <tbody>\n",
       "    <tr>\n",
       "      <th>10</th>\n",
       "      <td>93</td>\n",
       "      <td>100</td>\n",
       "      <td>95</td>\n",
       "    </tr>\n",
       "    <tr>\n",
       "      <th>12</th>\n",
       "      <td>98</td>\n",
       "      <td>95</td>\n",
       "      <td>100</td>\n",
       "    </tr>\n",
       "    <tr>\n",
       "      <th>13</th>\n",
       "      <td>99</td>\n",
       "      <td>90</td>\n",
       "      <td>97</td>\n",
       "    </tr>\n",
       "  </tbody>\n",
       "</table>\n",
       "</div>"
      ],
      "text/plain": [
       "    Physics  Chemistry  Maths\n",
       "10       93        100     95\n",
       "12       98         95    100\n",
       "13       99         90     97"
      ]
     },
     "execution_count": 34,
     "metadata": {},
     "output_type": "execute_result"
    }
   ],
   "source": [
    "d3 = d2[['Physics', 'Chemistry', 'Maths']]\n",
    "d3"
   ]
  },
  {
   "cell_type": "code",
   "execution_count": 35,
   "id": "f33e8ef6-75f0-410f-8571-a174f3ec7dc5",
   "metadata": {},
   "outputs": [
    {
     "data": {
      "text/plain": [
       "Physics      96.666667\n",
       "Chemistry    95.000000\n",
       "Maths        97.333333\n",
       "dtype: float64"
      ]
     },
     "execution_count": 35,
     "metadata": {},
     "output_type": "execute_result"
    }
   ],
   "source": [
    "d3.mean(axis=0)"
   ]
  },
  {
   "cell_type": "code",
   "execution_count": 36,
   "id": "596052d9-bff9-4b5f-bbc4-21b68a63594c",
   "metadata": {},
   "outputs": [
    {
     "data": {
      "text/plain": [
       "10    288\n",
       "12    293\n",
       "13    286\n",
       "dtype: int64"
      ]
     },
     "execution_count": 36,
     "metadata": {},
     "output_type": "execute_result"
    }
   ],
   "source": [
    "d3.sum(axis=1)"
   ]
  },
  {
   "cell_type": "code",
   "execution_count": 37,
   "id": "554b0670-f03e-42cf-a19d-f37a776af82d",
   "metadata": {},
   "outputs": [
    {
     "data": {
      "text/html": [
       "<div>\n",
       "<style scoped>\n",
       "    .dataframe tbody tr th:only-of-type {\n",
       "        vertical-align: middle;\n",
       "    }\n",
       "\n",
       "    .dataframe tbody tr th {\n",
       "        vertical-align: top;\n",
       "    }\n",
       "\n",
       "    .dataframe thead th {\n",
       "        text-align: right;\n",
       "    }\n",
       "</style>\n",
       "<table border=\"1\" class=\"dataframe\">\n",
       "  <thead>\n",
       "    <tr style=\"text-align: right;\">\n",
       "      <th></th>\n",
       "      <th>Name</th>\n",
       "      <th>Physics</th>\n",
       "      <th>Chemistry</th>\n",
       "      <th>Maths</th>\n",
       "      <th>Total</th>\n",
       "    </tr>\n",
       "  </thead>\n",
       "  <tbody>\n",
       "    <tr>\n",
       "      <th>10</th>\n",
       "      <td>mehul</td>\n",
       "      <td>93</td>\n",
       "      <td>100</td>\n",
       "      <td>95</td>\n",
       "      <td>288</td>\n",
       "    </tr>\n",
       "    <tr>\n",
       "      <th>12</th>\n",
       "      <td>jane</td>\n",
       "      <td>98</td>\n",
       "      <td>95</td>\n",
       "      <td>100</td>\n",
       "      <td>293</td>\n",
       "    </tr>\n",
       "    <tr>\n",
       "      <th>13</th>\n",
       "      <td>jill</td>\n",
       "      <td>99</td>\n",
       "      <td>90</td>\n",
       "      <td>97</td>\n",
       "      <td>286</td>\n",
       "    </tr>\n",
       "  </tbody>\n",
       "</table>\n",
       "</div>"
      ],
      "text/plain": [
       "     Name  Physics  Chemistry  Maths  Total\n",
       "10  mehul       93        100     95    288\n",
       "12   jane       98         95    100    293\n",
       "13   jill       99         90     97    286"
      ]
     },
     "execution_count": 37,
     "metadata": {},
     "output_type": "execute_result"
    }
   ],
   "source": [
    "d2"
   ]
  },
  {
   "cell_type": "code",
   "execution_count": 38,
   "id": "5011dbad-f99c-4069-a475-ade59463f6be",
   "metadata": {},
   "outputs": [
    {
     "data": {
      "text/html": [
       "<div>\n",
       "<style scoped>\n",
       "    .dataframe tbody tr th:only-of-type {\n",
       "        vertical-align: middle;\n",
       "    }\n",
       "\n",
       "    .dataframe tbody tr th {\n",
       "        vertical-align: top;\n",
       "    }\n",
       "\n",
       "    .dataframe thead th {\n",
       "        text-align: right;\n",
       "    }\n",
       "</style>\n",
       "<table border=\"1\" class=\"dataframe\">\n",
       "  <thead>\n",
       "    <tr style=\"text-align: right;\">\n",
       "      <th></th>\n",
       "      <th>Verbal</th>\n",
       "      <th>Quant</th>\n",
       "    </tr>\n",
       "  </thead>\n",
       "  <tbody>\n",
       "    <tr>\n",
       "      <th>13</th>\n",
       "      <td>98</td>\n",
       "      <td>100</td>\n",
       "    </tr>\n",
       "    <tr>\n",
       "      <th>12</th>\n",
       "      <td>99</td>\n",
       "      <td>90</td>\n",
       "    </tr>\n",
       "    <tr>\n",
       "      <th>10</th>\n",
       "      <td>100</td>\n",
       "      <td>92</td>\n",
       "    </tr>\n",
       "  </tbody>\n",
       "</table>\n",
       "</div>"
      ],
      "text/plain": [
       "    Verbal  Quant\n",
       "13      98    100\n",
       "12      99     90\n",
       "10     100     92"
      ]
     },
     "execution_count": 38,
     "metadata": {},
     "output_type": "execute_result"
    }
   ],
   "source": [
    "other_marks = {\n",
    "    'Roll': [13, 12, 10],\n",
    "    'Verbal': [98, 99, 100],\n",
    "    'Quant': [100, 90, 92]\n",
    "}\n",
    "d4 = DataFrame(other_marks, index=other_marks['Roll'], columns=['Verbal', 'Quant'])\n",
    "d4"
   ]
  },
  {
   "cell_type": "code",
   "execution_count": 40,
   "id": "c097ff90-d2e5-41bb-962e-4b42d2ce9062",
   "metadata": {},
   "outputs": [
    {
     "data": {
      "text/html": [
       "<div>\n",
       "<style scoped>\n",
       "    .dataframe tbody tr th:only-of-type {\n",
       "        vertical-align: middle;\n",
       "    }\n",
       "\n",
       "    .dataframe tbody tr th {\n",
       "        vertical-align: top;\n",
       "    }\n",
       "\n",
       "    .dataframe thead th {\n",
       "        text-align: right;\n",
       "    }\n",
       "</style>\n",
       "<table border=\"1\" class=\"dataframe\">\n",
       "  <thead>\n",
       "    <tr style=\"text-align: right;\">\n",
       "      <th></th>\n",
       "      <th>Name</th>\n",
       "      <th>Physics</th>\n",
       "      <th>Chemistry</th>\n",
       "      <th>Maths</th>\n",
       "      <th>Total</th>\n",
       "      <th>Verbal</th>\n",
       "      <th>Quant</th>\n",
       "    </tr>\n",
       "  </thead>\n",
       "  <tbody>\n",
       "    <tr>\n",
       "      <th>10</th>\n",
       "      <td>mehul</td>\n",
       "      <td>93</td>\n",
       "      <td>100</td>\n",
       "      <td>95</td>\n",
       "      <td>288</td>\n",
       "      <td>100</td>\n",
       "      <td>92</td>\n",
       "    </tr>\n",
       "    <tr>\n",
       "      <th>12</th>\n",
       "      <td>jane</td>\n",
       "      <td>98</td>\n",
       "      <td>95</td>\n",
       "      <td>100</td>\n",
       "      <td>293</td>\n",
       "      <td>99</td>\n",
       "      <td>90</td>\n",
       "    </tr>\n",
       "    <tr>\n",
       "      <th>13</th>\n",
       "      <td>jill</td>\n",
       "      <td>99</td>\n",
       "      <td>90</td>\n",
       "      <td>97</td>\n",
       "      <td>286</td>\n",
       "      <td>98</td>\n",
       "      <td>100</td>\n",
       "    </tr>\n",
       "  </tbody>\n",
       "</table>\n",
       "</div>"
      ],
      "text/plain": [
       "     Name  Physics  Chemistry  Maths  Total  Verbal  Quant\n",
       "10  mehul       93        100     95    288     100     92\n",
       "12   jane       98         95    100    293      99     90\n",
       "13   jill       99         90     97    286      98    100"
      ]
     },
     "execution_count": 40,
     "metadata": {},
     "output_type": "execute_result"
    }
   ],
   "source": [
    "d5 = pd.merge(d2, d4, left_index=True, right_index=True)\n",
    "d5"
   ]
  },
  {
   "cell_type": "code",
   "execution_count": 43,
   "id": "d1c3f4ab-aee2-4a54-be31-4e45a2f8209f",
   "metadata": {},
   "outputs": [
    {
     "data": {
      "text/html": [
       "<div>\n",
       "<style scoped>\n",
       "    .dataframe tbody tr th:only-of-type {\n",
       "        vertical-align: middle;\n",
       "    }\n",
       "\n",
       "    .dataframe tbody tr th {\n",
       "        vertical-align: top;\n",
       "    }\n",
       "\n",
       "    .dataframe thead th {\n",
       "        text-align: right;\n",
       "    }\n",
       "</style>\n",
       "<table border=\"1\" class=\"dataframe\">\n",
       "  <thead>\n",
       "    <tr style=\"text-align: right;\">\n",
       "      <th></th>\n",
       "      <th>Name</th>\n",
       "      <th>Physics</th>\n",
       "      <th>Chemistry</th>\n",
       "      <th>Maths</th>\n",
       "      <th>Total</th>\n",
       "      <th>Verbal</th>\n",
       "      <th>Quant</th>\n",
       "    </tr>\n",
       "  </thead>\n",
       "  <tbody>\n",
       "    <tr>\n",
       "      <th>10</th>\n",
       "      <td>mehul</td>\n",
       "      <td>93</td>\n",
       "      <td>100</td>\n",
       "      <td>95</td>\n",
       "      <td>864</td>\n",
       "      <td>100</td>\n",
       "      <td>92</td>\n",
       "    </tr>\n",
       "    <tr>\n",
       "      <th>12</th>\n",
       "      <td>jane</td>\n",
       "      <td>98</td>\n",
       "      <td>95</td>\n",
       "      <td>100</td>\n",
       "      <td>860</td>\n",
       "      <td>99</td>\n",
       "      <td>90</td>\n",
       "    </tr>\n",
       "    <tr>\n",
       "      <th>13</th>\n",
       "      <td>jill</td>\n",
       "      <td>99</td>\n",
       "      <td>90</td>\n",
       "      <td>97</td>\n",
       "      <td>880</td>\n",
       "      <td>98</td>\n",
       "      <td>100</td>\n",
       "    </tr>\n",
       "  </tbody>\n",
       "</table>\n",
       "</div>"
      ],
      "text/plain": [
       "     Name  Physics  Chemistry  Maths  Total  Verbal  Quant\n",
       "10  mehul       93        100     95    864     100     92\n",
       "12   jane       98         95    100    860      99     90\n",
       "13   jill       99         90     97    880      98    100"
      ]
     },
     "execution_count": 43,
     "metadata": {},
     "output_type": "execute_result"
    }
   ],
   "source": [
    "d5['Total'] = d5['Total'] + d5['Verbal'] + d5['Quant']\n",
    "d5"
   ]
  }
 ],
 "metadata": {
  "kernelspec": {
   "display_name": "Python 3 (ipykernel)",
   "language": "python",
   "name": "python3"
  },
  "language_info": {
   "codemirror_mode": {
    "name": "ipython",
    "version": 3
   },
   "file_extension": ".py",
   "mimetype": "text/x-python",
   "name": "python",
   "nbconvert_exporter": "python",
   "pygments_lexer": "ipython3",
   "version": "3.11.6"
  }
 },
 "nbformat": 4,
 "nbformat_minor": 5
}
