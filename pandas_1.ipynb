{
 "cells": [
  {
   "cell_type": "code",
   "execution_count": 21,
   "id": "cbdeeb64-b737-4343-a43d-6d80155b4fc4",
   "metadata": {},
   "outputs": [],
   "source": [
    "import pandas as pd\n",
    "import numpy as np\n",
    "from pandas import Series"
   ]
  },
  {
   "cell_type": "markdown",
   "id": "8e7548dd-7655-498c-87ce-4970a1487bd9",
   "metadata": {},
   "source": [
    "`Series` data structure\n",
    "1D data\n",
    "Every record has a `index` and `value`"
   ]
  },
  {
   "cell_type": "code",
   "execution_count": 22,
   "id": "d78ded94-c898-4937-be88-373c5efaf369",
   "metadata": {},
   "outputs": [],
   "source": [
    "marks = [5, 7, 10, 4, 2, 8, 9, 10]"
   ]
  },
  {
   "cell_type": "code",
   "execution_count": 23,
   "id": "0433e319-16e3-4c04-b60f-3397adebaba2",
   "metadata": {},
   "outputs": [
    {
     "name": "stdout",
     "output_type": "stream",
     "text": [
      "0     5\n",
      "1     7\n",
      "2    10\n",
      "3     4\n",
      "4     2\n",
      "5     8\n",
      "6     9\n",
      "7    10\n",
      "dtype: int8\n",
      "<class 'pandas.core.series.Series'>\n",
      "int8\n",
      "RangeIndex(start=0, stop=8, step=1)\n",
      "[ 5  7 10  4  2  8  9 10]\n",
      "<class 'numpy.ndarray'>\n"
     ]
    }
   ],
   "source": [
    "s1 = Series(marks, dtype=np.int8) # default index series 0-7\n",
    "print(s1)\n",
    "print(type(s1))\n",
    "print(s1.dtype)\n",
    "print(s1.index)\n",
    "v = s1.values\n",
    "print(v)\n",
    "print(type(v))"
   ]
  },
  {
   "cell_type": "code",
   "execution_count": 24,
   "id": "4c67b2b2-372f-43f8-8787-d31c3dc4a222",
   "metadata": {},
   "outputs": [
    {
     "name": "stdout",
     "output_type": "stream",
     "text": [
      "1      5\n",
      "5      7\n",
      "3     10\n",
      "6      4\n",
      "7      2\n",
      "10     8\n",
      "15     9\n",
      "20    10\n",
      "dtype: int8\n"
     ]
    }
   ],
   "source": [
    "roll_nos = [1, 5, 3, 6, 7, 10, 15, 20]\n",
    "s2 = Series(marks, index=roll_nos, dtype=np.int8)\n",
    "print(s2)"
   ]
  },
  {
   "cell_type": "code",
   "execution_count": 25,
   "id": "6b71a76b-e6a9-4833-90bb-7e29f0aa51ef",
   "metadata": {},
   "outputs": [
    {
     "name": "stdout",
     "output_type": "stream",
     "text": [
      "1      5\n",
      "5      7\n",
      "3     10\n",
      "6      4\n",
      "7      2\n",
      "10     8\n",
      "15     9\n",
      "20    10\n",
      "dtype: int64\n"
     ]
    }
   ],
   "source": [
    "student_marks = {1: 5, 5: 7, 3: 10, 6: 4, 7: 2, 10: 8, 15: 9, 20: 10}\n",
    "s3 = Series(student_marks)\n",
    "print(s3)"
   ]
  },
  {
   "cell_type": "code",
   "execution_count": 26,
   "id": "12d9161a-9735-444d-a0c8-204553c1ab36",
   "metadata": {},
   "outputs": [
    {
     "name": "stdout",
     "output_type": "stream",
     "text": [
      "10\n",
      "9\n",
      "5\n",
      "9\n"
     ]
    }
   ],
   "source": [
    "# indexing\n",
    "# user supplied indexing\n",
    "print(s2.loc[3])\n",
    "print(s2.loc[15])\n",
    "\n",
    "# implicit 0 based range indexing\n",
    "print(s2.iloc[0])\n",
    "print(s2.iloc[-2])"
   ]
  },
  {
   "cell_type": "code",
   "execution_count": 27,
   "id": "b07e1cea-6c1e-402d-8f4e-721cf582dc21",
   "metadata": {},
   "outputs": [
    {
     "name": "stdout",
     "output_type": "stream",
     "text": [
      "1      5\n",
      "5      3\n",
      "3     10\n",
      "6      4\n",
      "7      2\n",
      "10     8\n",
      "15     9\n",
      "20    10\n",
      "dtype: int8\n"
     ]
    }
   ],
   "source": [
    "# indexing + modification\n",
    "s2.loc[5] = 3\n",
    "print(s2)"
   ]
  },
  {
   "cell_type": "code",
   "execution_count": 28,
   "id": "cdb9bc24-6608-4938-b2e6-17c122cfb10b",
   "metadata": {},
   "outputs": [
    {
     "name": "stdout",
     "output_type": "stream",
     "text": [
      "1      5\n",
      "5      3\n",
      "3     10\n",
      "6      4\n",
      "7      2\n",
      "10     8\n",
      "15     9\n",
      "20     7\n",
      "dtype: int8\n"
     ]
    }
   ],
   "source": [
    "s2.iloc[-1] = 7\n",
    "print(s2)"
   ]
  },
  {
   "cell_type": "code",
   "execution_count": 30,
   "id": "771aa4b6-558e-4cd0-a4ba-b0caed320de5",
   "metadata": {},
   "outputs": [
    {
     "name": "stdout",
     "output_type": "stream",
     "text": [
      "7     2\n",
      "15    9\n",
      "20    7\n",
      "dtype: int8\n",
      "1     5\n",
      "5     3\n",
      "20    7\n",
      "dtype: int8\n"
     ]
    }
   ],
   "source": [
    "# multiindexing\n",
    "print(s2.loc[[7, 15, 20]])\n",
    "\n",
    "print(s2.iloc[[0, 1, -1]])"
   ]
  },
  {
   "cell_type": "code",
   "execution_count": 32,
   "id": "9b943f84-970e-4ba9-92e8-4d386ddd855f",
   "metadata": {},
   "outputs": [
    {
     "name": "stdout",
     "output_type": "stream",
     "text": [
      "1     5\n",
      "5     3\n",
      "3    10\n",
      "6     4\n",
      "dtype: int8\n",
      "10    8\n",
      "15    9\n",
      "20    7\n",
      "dtype: int8\n"
     ]
    }
   ],
   "source": [
    "# slicing\n",
    "s5 = s2.iloc[:4]\n",
    "print(s5)\n",
    "\n",
    "s6 = s2.iloc[-3:]\n",
    "print(s6)"
   ]
  },
  {
   "cell_type": "code",
   "execution_count": 34,
   "id": "ceb5792f-e2c3-466a-9188-ae6dc7ef575d",
   "metadata": {},
   "outputs": [
    {
     "name": "stdout",
     "output_type": "stream",
     "text": [
      "1     5\n",
      "5     3\n",
      "3    10\n",
      "dtype: int8\n"
     ]
    }
   ],
   "source": [
    "# slicing based on user provided index\n",
    "s7 = s2.loc[1:3] # end index is included. it is not exclusive\n",
    "print(s7)"
   ]
  },
  {
   "cell_type": "code",
   "execution_count": 38,
   "id": "fca05fe3-e8c9-4424-b72f-5026c1cae6f5",
   "metadata": {},
   "outputs": [
    {
     "name": "stdout",
     "output_type": "stream",
     "text": [
      "1      5\n",
      "5      3\n",
      "3     10\n",
      "6      4\n",
      "7      2\n",
      "10     8\n",
      "15     9\n",
      "20     7\n",
      "dtype: int8\n",
      "3     10\n",
      "10     8\n",
      "15     9\n",
      "20     7\n",
      "dtype: int8\n",
      "5     3\n",
      "3    10\n",
      "6     4\n",
      "7     2\n",
      "dtype: int8\n"
     ]
    }
   ],
   "source": [
    "# filtering\n",
    "print(s2)\n",
    "s8 = s2[s2 > 5]\n",
    "print(s8)\n",
    "s9 = s2[(s2 == 10) | (s2 < 5)]\n",
    "print(s9)"
   ]
  },
  {
   "cell_type": "code",
   "execution_count": 40,
   "id": "a338d556-f62d-4f7a-8ed6-379c7a78cf19",
   "metadata": {
    "scrolled": true
   },
   "outputs": [
    {
     "name": "stdout",
     "output_type": "stream",
     "text": [
      "1      5\n",
      "5      3\n",
      "3     10\n",
      "6      4\n",
      "7      2\n",
      "10     8\n",
      "15     9\n",
      "20     7\n",
      "dtype: int8\n",
      "1     4\n",
      "5     2\n",
      "3     9\n",
      "6     3\n",
      "7     1\n",
      "10    7\n",
      "15    8\n",
      "20    6\n",
      "dtype: int8\n"
     ]
    }
   ],
   "source": [
    "# arithmetic operations\n",
    "print(s2)\n",
    "s10 = s2 - 1\n",
    "print(s10)"
   ]
  },
  {
   "cell_type": "code",
   "execution_count": 45,
   "id": "16289eae-66c8-4a7b-9714-d196811968b4",
   "metadata": {},
   "outputs": [
    {
     "name": "stdout",
     "output_type": "stream",
     "text": [
      "1      5\n",
      "5      3\n",
      "3     10\n",
      "6      4\n",
      "7      2\n",
      "10     8\n",
      "15     9\n",
      "20     7\n",
      "dtype: int8\n",
      "2\n",
      "10\n",
      "48\n",
      "6.0\n",
      "6.0\n",
      "0     2\n",
      "1     3\n",
      "2     4\n",
      "3     5\n",
      "4     7\n",
      "5     8\n",
      "6     9\n",
      "7    10\n",
      "dtype: int8\n",
      "2.9277002188455996\n",
      "8.571428571428571\n"
     ]
    }
   ],
   "source": [
    "# descriptive statistics\n",
    "print(s2)\n",
    "print(s2.min())\n",
    "print(s2.max())\n",
    "print(s2.sum())\n",
    "print(s2.mean())\n",
    "print(s2.median())\n",
    "print(s2.mode())\n",
    "print(s2.std())\n",
    "print(s2.var())"
   ]
  },
  {
   "cell_type": "code",
   "execution_count": 48,
   "id": "9f98aef5-51d4-4f28-b00b-13c5cf5be8fe",
   "metadata": {},
   "outputs": [
    {
     "name": "stdout",
     "output_type": "stream",
     "text": [
      "count     8.0000\n",
      "mean      6.0000\n",
      "std       2.9277\n",
      "min       2.0000\n",
      "25%       3.7500\n",
      "50%       6.0000\n",
      "75%       8.2500\n",
      "max      10.0000\n",
      "dtype: float64\n",
      "mean    6.0000\n",
      "std     2.9277\n",
      "dtype: float64\n"
     ]
    }
   ],
   "source": [
    "s11 = s2.describe()\n",
    "print(s11)\n",
    "print(s11.loc[['mean', 'std']])"
   ]
  },
  {
   "cell_type": "code",
   "execution_count": 54,
   "id": "8e07097e-3a69-4fd8-a09c-579d4f20a678",
   "metadata": {},
   "outputs": [
    {
     "name": "stdout",
     "output_type": "stream",
     "text": [
      "1      5\n",
      "5      3\n",
      "3     10\n",
      "6      4\n",
      "7      2\n",
      "10     8\n",
      "15     4\n",
      "20    10\n",
      "dtype: int8\n"
     ]
    }
   ],
   "source": [
    "s2.loc[20] = 10\n",
    "s2.loc[15] = 4\n",
    "print(s2)"
   ]
  },
  {
   "cell_type": "code",
   "execution_count": 58,
   "id": "7d0ad65c-0ffc-4a95-bd5d-3e96605cd565",
   "metadata": {},
   "outputs": [
    {
     "name": "stdout",
     "output_type": "stream",
     "text": [
      "[ 5  3 10  4  2  8]\n",
      "10    2\n",
      "4     2\n",
      "5     1\n",
      "3     1\n",
      "2     1\n",
      "8     1\n",
      "Name: count, dtype: int64\n"
     ]
    }
   ],
   "source": [
    "print(s2.unique())\n",
    "s20 = s2.value_counts()\n",
    "print(s20)"
   ]
  },
  {
   "cell_type": "code",
   "execution_count": 59,
   "id": "62a35d7b-fc91-4017-bed6-1b9a3b7f3534",
   "metadata": {},
   "outputs": [
    {
     "name": "stdout",
     "output_type": "stream",
     "text": [
      "5     1\n",
      "3     1\n",
      "2     1\n",
      "8     1\n",
      "10    2\n",
      "4     2\n",
      "Name: count, dtype: int64\n"
     ]
    }
   ],
   "source": [
    "s21 = s2.value_counts(ascending=True)\n",
    "print(s21)"
   ]
  },
  {
   "cell_type": "code",
   "execution_count": 62,
   "id": "96f6bd07-9918-43a1-9ac5-fff2d81e9906",
   "metadata": {},
   "outputs": [
    {
     "name": "stdout",
     "output_type": "stream",
     "text": [
      "1      5\n",
      "5      3\n",
      "3     10\n",
      "6      4\n",
      "7      2\n",
      "10     8\n",
      "15     4\n",
      "20    10\n",
      "dtype: int8\n",
      "20    10\n",
      "15     4\n",
      "10     8\n",
      "7      2\n",
      "6      4\n",
      "5      3\n",
      "3     10\n",
      "1      5\n",
      "dtype: int8\n"
     ]
    }
   ],
   "source": [
    "print(s2)\n",
    "s22 = s2.sort_index(ascending=False)\n",
    "print(s22)"
   ]
  },
  {
   "cell_type": "code",
   "execution_count": 64,
   "id": "db5ced22-8e77-4476-a169-16548115972a",
   "metadata": {},
   "outputs": [
    {
     "name": "stdout",
     "output_type": "stream",
     "text": [
      "1      5\n",
      "5      3\n",
      "3     10\n",
      "6      4\n",
      "7      2\n",
      "10     8\n",
      "15     4\n",
      "20    10\n",
      "dtype: int8\n",
      "3     10\n",
      "20    10\n",
      "10     8\n",
      "1      5\n",
      "6      4\n",
      "15     4\n",
      "5      3\n",
      "7      2\n",
      "dtype: int8\n"
     ]
    }
   ],
   "source": [
    "print(s2)\n",
    "s23 = s2.sort_values(ascending=False)\n",
    "print(s23)"
   ]
  }
 ],
 "metadata": {
  "kernelspec": {
   "display_name": "Python 3 (ipykernel)",
   "language": "python",
   "name": "python3"
  },
  "language_info": {
   "codemirror_mode": {
    "name": "ipython",
    "version": 3
   },
   "file_extension": ".py",
   "mimetype": "text/x-python",
   "name": "python",
   "nbconvert_exporter": "python",
   "pygments_lexer": "ipython3",
   "version": "3.11.6"
  }
 },
 "nbformat": 4,
 "nbformat_minor": 5
}
